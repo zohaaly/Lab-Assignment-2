{
 "cells": [
  {
   "cell_type": "code",
   "execution_count": 1,
   "id": "1594f974-30db-4edc-b3ef-1e4b77830d4c",
   "metadata": {},
   "outputs": [
    {
     "name": "stdout",
     "output_type": "stream",
     "text": [
      "('zoha', 19, 1.6256)\n",
      "19\n"
     ]
    }
   ],
   "source": [
    "#Name:ZOHA ALI\n",
    "#SECTION:A\n",
    "#ROLL NO:FA25-BBD-092\n",
    "\n",
    "#Task 1: Basic creation and Access\n",
    "my_info = ('zoha',19,1.6256)\n",
    "print(my_info)\n",
    "print(my_info[1])"
   ]
  },
  {
   "cell_type": "code",
   "execution_count": 2,
   "id": "1d6aebce-8121-4544-bafa-6f584a81e4fc",
   "metadata": {},
   "outputs": [
    {
     "name": "stdout",
     "output_type": "stream",
     "text": [
      "<class 'tuple'>\n"
     ]
    }
   ],
   "source": [
    "#Task 2: Single-Item Tuple\n",
    "single_day = ('Monday',)\n",
    "print(type(single_day))"
   ]
  },
  {
   "cell_type": "code",
   "execution_count": 3,
   "id": "e2f7076e-dd51-4ee7-9c73-43dcfb00d5b3",
   "metadata": {},
   "outputs": [
    {
     "name": "stdout",
     "output_type": "stream",
     "text": [
      "Jupiter\n",
      "Earth\n"
     ]
    }
   ],
   "source": [
    "#Task 3: Negative Indexing\n",
    "planets = ('Mercury','Venus','Earth','Mars','Jupiter')\n",
    "print(planets[-1])\n",
    "print(planets[-3])"
   ]
  },
  {
   "cell_type": "code",
   "execution_count": 5,
   "id": "954d962f-a66c-471f-a22f-9a2db04cbb8a",
   "metadata": {},
   "outputs": [
    {
     "name": "stdout",
     "output_type": "stream",
     "text": [
      "(1, 2, 3, 4, 5, 6)\n"
     ]
    }
   ],
   "source": [
    "#Task 4: Tuple Concatenation\n",
    "front_numbers = (1,2,3)\n",
    "back_numbers = (4,5,6)\n",
    "combined_numbers = front_numbers+back_numbers\n",
    "print(combined_numbers)"
   ]
  },
  {
   "cell_type": "code",
   "execution_count": 6,
   "id": "dfda0ad0-5e9a-4677-b6a5-a4e0adea9ff5",
   "metadata": {},
   "outputs": [
    {
     "name": "stdout",
     "output_type": "stream",
     "text": [
      "('⭐', '⭐', '⭐')\n"
     ]
    }
   ],
   "source": [
    "#Task 5: Tuple Repetition\n",
    "icon = ('⭐',)\n",
    "ratings = icon*3\n",
    "print(ratings)"
   ]
  },
  {
   "cell_type": "code",
   "execution_count": 8,
   "id": "0dd63029-50b5-4646-8df3-30f2ec9370f4",
   "metadata": {},
   "outputs": [
    {
     "ename": "TypeError",
     "evalue": "'tuple' object does not support item assignment",
     "output_type": "error",
     "traceback": [
      "\u001b[1;31m---------------------------------------------------------------------------\u001b[0m",
      "\u001b[1;31mTypeError\u001b[0m                                 Traceback (most recent call last)",
      "Cell \u001b[1;32mIn[8], line 3\u001b[0m\n\u001b[0;32m      1\u001b[0m \u001b[38;5;66;03m#Task 6: The Immutability Test\u001b[39;00m\n\u001b[0;32m      2\u001b[0m status \u001b[38;5;241m=\u001b[39m (\u001b[38;5;124m'\u001b[39m\u001b[38;5;124mpending\u001b[39m\u001b[38;5;124m'\u001b[39m,\u001b[38;5;124m'\u001b[39m\u001b[38;5;124mprocessing\u001b[39m\u001b[38;5;124m'\u001b[39m,\u001b[38;5;124m'\u001b[39m\u001b[38;5;124mcompleted\u001b[39m\u001b[38;5;124m'\u001b[39m)\n\u001b[1;32m----> 3\u001b[0m status[\u001b[38;5;241m0\u001b[39m] \u001b[38;5;241m=\u001b[39m \u001b[38;5;124m'\u001b[39m\u001b[38;5;124mfailed\u001b[39m\u001b[38;5;124m'\u001b[39m\n",
      "\u001b[1;31mTypeError\u001b[0m: 'tuple' object does not support item assignment"
     ]
    }
   ],
   "source": [
    "#Task 6: The Immutability Test\n",
    "status = ('pending','processing','completed')\n",
    "status[0] = 'failed'\n",
    "# TypeError: 'tuple' object does not support item assignment \n",
    "# This error occurs because tuples in python are immutable meaning that once a tuple is created, its elements cannot be changed\n"
   ]
  },
  {
   "cell_type": "code",
   "execution_count": 11,
   "id": "d33399c1-bf40-4221-a9d1-0275fe2245d6",
   "metadata": {},
   "outputs": [
    {
     "name": "stdout",
     "output_type": "stream",
     "text": [
      "(30, 40, 50)\n",
      "(10, 20, 30, 40)\n"
     ]
    }
   ],
   "source": [
    "#Task 7: Tuple Slicing\n",
    "given_data = (10,20,30,40,50,60,70)\n",
    "print(given_data[2:5])\n",
    "print(given_data[0:4])      "
   ]
  },
  {
   "cell_type": "code",
   "execution_count": 12,
   "id": "72be1850-4d3f-414c-8243-a9f3e87ac8aa",
   "metadata": {},
   "outputs": [
    {
     "name": "stdout",
     "output_type": "stream",
     "text": [
      "4\n",
      "4\n"
     ]
    }
   ],
   "source": [
    "#Task 8: Counting Elements\n",
    "results = ('pass','fail','pass','pass','defer','pass')\n",
    "print(results.count('pass'))\n",
    "print(results.index('defer'))"
   ]
  },
  {
   "cell_type": "code",
   "execution_count": null,
   "id": "352d668a-a21b-4262-a2de-0f039ef0d935",
   "metadata": {},
   "outputs": [],
   "source": []
  }
 ],
 "metadata": {
  "kernelspec": {
   "display_name": "Python 3 (ipykernel)",
   "language": "python",
   "name": "python3"
  },
  "language_info": {
   "codemirror_mode": {
    "name": "ipython",
    "version": 3
   },
   "file_extension": ".py",
   "mimetype": "text/x-python",
   "name": "python",
   "nbconvert_exporter": "python",
   "pygments_lexer": "ipython3",
   "version": "3.13.5"
  }
 },
 "nbformat": 4,
 "nbformat_minor": 5
}
